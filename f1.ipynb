{
 "cells": [
  {
   "cell_type": "markdown",
   "metadata": {},
   "source": [
    "prova, • 25% anàlisis dels atributs (data mining),
• 25% aplicació de diversos mètodes d'aprenentatge,
• 30% visualització i presentació dels resultats,
• 10% repositori github
• 10% presentació opcional
"
   ]
  }
 ],
 "metadata": {
  "language_info": {
   "name": "python"
  }
 },
 "nbformat": 4,
 "nbformat_minor": 2
}
